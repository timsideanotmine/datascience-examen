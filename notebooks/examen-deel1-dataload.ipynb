{
 "cells": [
  {
   "cell_type": "markdown",
   "metadata": {},
   "source": [
    "# Examen deel 1 : Data load : data science Syntra, Tim Hellemans, J. Van Erum, juni 2024"
   ]
  },
  {
   "cell_type": "markdown",
   "metadata": {},
   "source": [
    "# A : nodige modules"
   ]
  },
  {
   "cell_type": "code",
   "execution_count": 19,
   "metadata": {},
   "outputs": [],
   "source": [
    "# standaard in python\n",
    "import os \n",
    "import datetime\n",
    "import sys\n",
    "import json\n",
    "import random\n",
    "import calendar\n",
    "import gzip"
   ]
  },
  {
   "cell_type": "code",
   "execution_count": 20,
   "metadata": {},
   "outputs": [],
   "source": [
    "# te installeren packages en modules\n",
    "import numpy as np\n",
    "import pandas as pd\n",
    "\n",
    "import matplotlib.pyplot as plt\n",
    "import matplotlib.cm as cm\n",
    "import matplotlib.colors as colors\n",
    "\n",
    "import seaborn as sns\n",
    "\n",
    "from scipy import stats\n",
    "# from scipy.stats import weibull_min\n",
    "# from scipy.stats import skewnorm\n",
    "# from scipy.stats import pareto\n",
    "# from scipy.stats import beta\n",
    "from scipy.stats import norm\n",
    "\n",
    "# from sklearn.linear_model import LinearRegression\n",
    "\n",
    "from tqdm import tqdm"
   ]
  },
  {
   "cell_type": "code",
   "execution_count": 21,
   "metadata": {},
   "outputs": [],
   "source": [
    "# eigen packages modules\n",
    "current_working_directory = os.getcwd()                                    \n",
    "parent_working_directory = os.path.dirname(current_working_directory)      \n",
    "scripts_directory = os.path.join(parent_working_directory, 'scripts')      \n",
    "sys.path.append(scripts_directory)                                         \n",
    "# sys.path.remove(scripts_directory)\n",
    "# print(sys.path)\n",
    "\n",
    "import come_in_handy as cih\n",
    "import model_simulatie as mdls\n",
    "import model_data_loaders as mdll\n",
    "import my_matplotlib_standards as mypltstd"
   ]
  },
  {
   "cell_type": "code",
   "execution_count": 22,
   "metadata": {},
   "outputs": [],
   "source": [
    "# eigen standard set up uitvoering\n",
    "mypltstd.my_matplotlib_pyplot_standards_setup()"
   ]
  },
  {
   "cell_type": "markdown",
   "metadata": {},
   "source": [
    "# B : functies nog niet in modules"
   ]
  },
  {
   "cell_type": "markdown",
   "metadata": {},
   "source": [
    "# C : opladen van de gegevens"
   ]
  },
  {
   "cell_type": "code",
   "execution_count": 23,
   "metadata": {},
   "outputs": [],
   "source": [
    "# opladen JSON file met MSR waarden (min_sust_rate = minimu sustainable rate)\n",
    "min_sust_rate_locatie = \"../data/raw/productiemodel/data_productie/master_data.json\"\n",
    "df_msr_gegevens = mdll.laad_msr_gegevens_in_dataframe(min_sust_rate_locatie)\n",
    "# df_msr_gegevens"
   ]
  },
  {
   "cell_type": "code",
   "execution_count": 15,
   "metadata": {},
   "outputs": [],
   "source": [
    "# bepaal waar de dagelijk productie sets (per fabriek) zich bevinden op schijf\n",
    "dagelijkse_productie_locatie = \"../data/raw/productiemodel/data_productie/daily_production/\""
   ]
  },
  {
   "cell_type": "code",
   "execution_count": 16,
   "metadata": {},
   "outputs": [],
   "source": [
    "# Laad dagelijks productie voor BRU in BRU dataframe\n",
    "factory = 'BRU'\n",
    "dagelijkse_productie_BRU = mdll.laad_dagelijkse_productie_in_dataframe(\n",
    "                                factory, \n",
    "                                os.path.join(dagelijkse_productie_locatie, factory))\n",
    "# dagelijkse_productie_BRU\n",
    "\n",
    "# voeg MSR waarden toe op het STO dagelijkse productie dataframe\n",
    "dagelijkse_productie_BRU = dagelijkse_productie_BRU.merge(\n",
    "                                        df_msr_gegevens, on='factory', how='left')\n",
    "# dagelijkse_productie_BRU\n",
    "\n",
    "# verwijder records waar onderhoud werd gepland, zie opgave Deel 1, stap 5, bullet 1 en dixit Tim in de klas\n",
    "dagelijkse_productie_BRU = dagelijkse_productie_BRU[dagelijkse_productie_BRU['maintenance'] == 'No']\n",
    "# dagelijkse_productie_STO"
   ]
  },
  {
   "cell_type": "code",
   "execution_count": 17,
   "metadata": {},
   "outputs": [],
   "source": [
    "# Laad dagelijks productie voor STO in STO dataframe\n",
    "factory = 'STO'\n",
    "dagelijkse_productie_STO = mdll.laad_dagelijkse_productie_in_dataframe(\n",
    "                                factory, \n",
    "                                os.path.join(dagelijkse_productie_locatie, factory))\n",
    "# dagelijkse_productie_STO\n",
    "\n",
    "# voeg MSR waarden toe op het STO dagelijkse productie dataframe\n",
    "dagelijkse_productie_STO = dagelijkse_productie_STO.merge(\n",
    "                                        df_msr_gegevens, on='factory', how='left')\n",
    "# dagelijkse_productie_STO\n",
    "\n",
    "# verwijder records waar onderhoud werd gepland, zie opgave Deel 1, stap 5, bullet 1 en dixit Tim in de klas\n",
    "dagelijkse_productie_STO = dagelijkse_productie_STO[dagelijkse_productie_STO['maintenance'] == 'No']\n",
    "# dagelijkse_productie_STO"
   ]
  },
  {
   "cell_type": "code",
   "execution_count": 18,
   "metadata": {},
   "outputs": [],
   "source": [
    "# Breng alle gegevens te samen in een groot dataframe, in geval van analyse totaal productie\n",
    "dagelijkse_productie_ALL = pd.concat(\n",
    "                            [dagelijkse_productie_BRU, \n",
    "                             dagelijkse_productie_STO],\n",
    "                               ignore_index=True)\n",
    "#  save het voor analyse in een Excel sheet\n",
    "dagelijkse_productie_ALL.to_excel(\"../data/interim/dagelijkse_productie_ALL.xlsx\")\n",
    "# dagelijkse_productie_ALL"
   ]
  },
  {
   "cell_type": "markdown",
   "metadata": {},
   "source": [
    "# D : een eerste controle van de gegevens"
   ]
  },
  {
   "cell_type": "markdown",
   "metadata": {},
   "source": [
    "# E : de kolom 'productie' valideren en gebruiksklaar maken"
   ]
  }
 ],
 "metadata": {
  "kernelspec": {
   "display_name": ".venv",
   "language": "python",
   "name": "python3"
  },
  "language_info": {
   "codemirror_mode": {
    "name": "ipython",
    "version": 3
   },
   "file_extension": ".py",
   "mimetype": "text/x-python",
   "name": "python",
   "nbconvert_exporter": "python",
   "pygments_lexer": "ipython3",
   "version": "3.12.3"
  }
 },
 "nbformat": 4,
 "nbformat_minor": 2
}
