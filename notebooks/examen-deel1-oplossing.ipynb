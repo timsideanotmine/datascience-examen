{
 "cells": [
  {
   "cell_type": "markdown",
   "metadata": {},
   "source": [
    "# Examen deel 1 : data science Syntra, Tim Hellemans, J. Van Erum, 4 juni 2024"
   ]
  },
  {
   "cell_type": "markdown",
   "metadata": {},
   "source": [
    "# A : imports "
   ]
  },
  {
   "cell_type": "code",
   "execution_count": 1,
   "metadata": {},
   "outputs": [],
   "source": [
    "# standaard packages in python\n",
    "import os \n",
    "import datetime\n",
    "import sys\n",
    "import json\n",
    "# import random\n",
    "# import calendar\n",
    "# import gzip"
   ]
  },
  {
   "cell_type": "code",
   "execution_count": 2,
   "metadata": {},
   "outputs": [],
   "source": [
    "# te installeren packages en modules\n",
    "import numpy as np\n",
    "import pandas as pd\n",
    "import matplotlib.pyplot as plt\n",
    "# import matplotlib.cm as cm\n",
    "import matplotlib.colors as colors\n",
    "# import seaborn as sns\n",
    "# from scipy import stats\n",
    "# from scipy.stats import weibull_min\n",
    "# from scipy.stats import skewnorm\n",
    "# from scipy.stats import pareto\n",
    "# from scipy.stats import beta\n",
    "from scipy.stats import norm\n",
    "# from sklearn.linear_model import LinearRegression\n",
    "from tqdm import tqdm"
   ]
  },
  {
   "cell_type": "code",
   "execution_count": 3,
   "metadata": {},
   "outputs": [],
   "source": [
    "# eigen packages modules\n",
    "current_working_directory = os.getcwd()                                    \n",
    "parent_working_directory = os.path.dirname(current_working_directory)      \n",
    "scripts_directory = os.path.join(parent_working_directory, 'scripts')      \n",
    "sys.path.append(scripts_directory)                                         \n",
    "# sys.path.remove(scripts_directory) # in case neede to be removed\n",
    "# print(sys.path)                    # in case needs to be inspected\n",
    "\n",
    "import my_constants_standards as mycs\n",
    "import my_matplotlib_standards as myms"
   ]
  },
  {
   "cell_type": "code",
   "execution_count": 4,
   "metadata": {},
   "outputs": [],
   "source": [
    "# eigen standard set up uitvoering\n",
    "mycs.my_colors_setup()\n",
    "myms.my_matplotlib_pyplot_setup()"
   ]
  },
  {
   "cell_type": "markdown",
   "metadata": {},
   "source": [
    "# B : functies"
   ]
  },
  {
   "cell_type": "code",
   "execution_count": null,
   "metadata": {},
   "outputs": [],
   "source": []
  },
  {
   "cell_type": "markdown",
   "metadata": {},
   "source": [
    "# C : opladen van gegevens"
   ]
  },
  {
   "cell_type": "code",
   "execution_count": 5,
   "metadata": {},
   "outputs": [],
   "source": [
    "location = '../data/raw/'\n",
    "filename = 'opgave_filename.csv'\n",
    "file_to_load = os.path.join(location, f\"{filename}\")\n",
    "df = pd.read_csv(file_to_load, delimiter=',')\n"
   ]
  },
  {
   "cell_type": "code",
   "execution_count": 6,
   "metadata": {},
   "outputs": [],
   "source": [
    "# Breng alle gegevens te samen in een groot dataframe\n",
    "# df_save = pd.concat(\n",
    "#          [df_1, df_2],\n",
    "#           ignore_index=True)\n",
    "#  save het voor analyse in een Excel sheet\n",
    "# df_save.to_excel(\"../data/interim/dd_save.xlsx\")"
   ]
  },
  {
   "cell_type": "markdown",
   "metadata": {},
   "source": [
    "# D : gegevens controle"
   ]
  },
  {
   "cell_type": "code",
   "execution_count": 7,
   "metadata": {},
   "outputs": [],
   "source": [
    "# print(df.head(10))\n",
    "# print(df.tail(10))\n",
    "# print(df.describe())\n",
    "# print(df.describe(include = \"all\"))\n",
    "# print(df.info())\n",
    "# print(df.shape)\n",
    "# print(df.columns)\n",
    "# print(df.index)\n",
    "# print(df.dtypes)\n",
    "# print(len(df))\n",
    "# print(df.isnull().sum())\n",
    "\n",
    "# print(f\"{df['model'].nunique(dropna=True) = } \\n \")    # controleer uniciteit van waarden in kolom\n",
    "# print(f\"{df['manufacturer'].value_counts() = } \\n \")   # controleer aantallen van waarden in kolom\n",
    "# df['my_column'].fillna(0, inplace=True)                # zet NaN waarden in kolom naar 0\n",
    "# df.fillna(0, inplace=True)                             # zet alle NaN waarden in heel dataframe naar 0  \n",
    "# df['my_column'].replace(np.nan, 0, inplace=True)       # vervang bepaalde waarden door - in dit geval - 0 \n",
    "# df['my_column'] = pd.to_numeric(df['my_column'], errors='coerce') # zet strings en getallen in een kolom om naar hun numerieke waarde\n",
    "\n",
    "# df.sort_values(['manufacturer'], ascending=False)\n",
    "# df.groupby('manufacturer').agg({'mileage':'sum'})\n",
    "# df.groupby('manufacturer').agg({'mileage' : 'mean'}).sort_values(by='mileage', ascending=False)\n",
    "\n",
    "# dollarizer = lambda x: float(x[1:-1])\n",
    "# df.item_price = chipo.item_price.apply(dollarizer)\n"
   ]
  },
  {
   "cell_type": "markdown",
   "metadata": {},
   "source": [
    "# E : gebruiksklaar maken"
   ]
  },
  {
   "cell_type": "code",
   "execution_count": null,
   "metadata": {},
   "outputs": [],
   "source": []
  },
  {
   "cell_type": "markdown",
   "metadata": {},
   "source": [
    "# F : verwerken naar een resultaat"
   ]
  }
 ],
 "metadata": {
  "kernelspec": {
   "display_name": ".venv",
   "language": "python",
   "name": "python3"
  },
  "language_info": {
   "codemirror_mode": {
    "name": "ipython",
    "version": 3
   },
   "file_extension": ".py",
   "mimetype": "text/x-python",
   "name": "python",
   "nbconvert_exporter": "python",
   "pygments_lexer": "ipython3",
   "version": "3.12.3"
  }
 },
 "nbformat": 4,
 "nbformat_minor": 2
}
