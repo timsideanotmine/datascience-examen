{
 "cells": [
  {
   "cell_type": "markdown",
   "metadata": {},
   "source": [
    "# Examen deel 2 : data science Syntra, Tim Hellemans, J. Van Erum, 11 juni 2024"
   ]
  },
  {
   "cell_type": "markdown",
   "metadata": {},
   "source": [
    "# A : imports"
   ]
  },
  {
   "cell_type": "code",
   "execution_count": 1,
   "metadata": {},
   "outputs": [],
   "source": [
    "# standaard packages in python\n",
    "import os \n",
    "import datetime\n",
    "import sys\n",
    "import json\n",
    "# import random\n",
    "# import calendar\n",
    "# import gzip"
   ]
  },
  {
   "cell_type": "code",
   "execution_count": 2,
   "metadata": {},
   "outputs": [],
   "source": [
    "# te installeren packages en modules\n",
    "import numpy as np\n",
    "import pandas as pd\n",
    "import matplotlib.pyplot as plt\n",
    "# import matplotlib.cm as cm\n",
    "import matplotlib.colors as colors\n",
    "# import seaborn as sns\n",
    "# from scipy import stats\n",
    "# from scipy.stats import weibull_min\n",
    "# from scipy.stats import skewnorm\n",
    "# from scipy.stats import pareto\n",
    "# from scipy.stats import beta\n",
    "from scipy.stats import norm\n",
    "# from sklearn.linear_model import LinearRegression\n",
    "from tqdm import tqdm"
   ]
  },
  {
   "cell_type": "code",
   "execution_count": 3,
   "metadata": {},
   "outputs": [],
   "source": [
    "# eigen packages modules\n",
    "current_working_directory = os.getcwd()                                    \n",
    "parent_working_directory = os.path.dirname(current_working_directory)      \n",
    "scripts_directory = os.path.join(parent_working_directory, 'scripts')      \n",
    "sys.path.append(scripts_directory)                                         \n",
    "# sys.path.remove(scripts_directory) # in case neede to be removed\n",
    "# print(sys.path)                    # in case needs to be inspected\n",
    "\n",
    "import my_constants_standards as mycs\n",
    "import my_matplotlib_standards as myms"
   ]
  },
  {
   "cell_type": "code",
   "execution_count": 4,
   "metadata": {},
   "outputs": [],
   "source": [
    "# eigen standard set up uitvoering\n",
    "mycs.my_colors_setup()\n",
    "myms.my_matplotlib_pyplot_setup()"
   ]
  },
  {
   "cell_type": "markdown",
   "metadata": {},
   "source": [
    "# B : functies"
   ]
  },
  {
   "cell_type": "markdown",
   "metadata": {},
   "source": [
    "# C : opladen van gegevens"
   ]
  },
  {
   "cell_type": "markdown",
   "metadata": {},
   "source": [
    "# D : gegevens controle"
   ]
  },
  {
   "cell_type": "markdown",
   "metadata": {},
   "source": [
    "# E : gebruiksklaar maken"
   ]
  },
  {
   "cell_type": "markdown",
   "metadata": {},
   "source": [
    "# F : verwerken naar een resultaat"
   ]
  }
 ],
 "metadata": {
  "kernelspec": {
   "display_name": ".venv",
   "language": "python",
   "name": "python3"
  },
  "language_info": {
   "codemirror_mode": {
    "name": "ipython",
    "version": 3
   },
   "file_extension": ".py",
   "mimetype": "text/x-python",
   "name": "python",
   "nbconvert_exporter": "python",
   "pygments_lexer": "ipython3",
   "version": "3.12.3"
  }
 },
 "nbformat": 4,
 "nbformat_minor": 2
}
