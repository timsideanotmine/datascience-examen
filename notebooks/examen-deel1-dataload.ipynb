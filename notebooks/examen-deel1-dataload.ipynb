{
 "cells": [
  {
   "cell_type": "markdown",
   "metadata": {},
   "source": [
    "# Examen deel 1 : Data load : data science Syntra, Tim Hellemans, J. Van Erum, juni 2024"
   ]
  },
  {
   "cell_type": "markdown",
   "metadata": {},
   "source": [
    "# A : nodige modules"
   ]
  },
  {
   "cell_type": "code",
   "execution_count": 2,
   "metadata": {},
   "outputs": [],
   "source": [
    "# standaard in python\n",
    "import os \n",
    "import datetime\n",
    "import sys\n",
    "import json\n",
    "import random\n",
    "import calendar\n",
    "import gzip"
   ]
  },
  {
   "cell_type": "code",
   "execution_count": 3,
   "metadata": {},
   "outputs": [],
   "source": [
    "# te installeren packages en modules\n",
    "import numpy as np\n",
    "import pandas as pd\n",
    "\n",
    "import matplotlib.pyplot as plt\n",
    "import matplotlib.cm as cm\n",
    "import matplotlib.colors as colors\n",
    "\n",
    "import seaborn as sns\n",
    "\n",
    "from scipy import stats\n",
    "# from scipy.stats import weibull_min\n",
    "# from scipy.stats import skewnorm\n",
    "# from scipy.stats import pareto\n",
    "# from scipy.stats import beta\n",
    "from scipy.stats import norm\n",
    "\n",
    "# from sklearn.linear_model import LinearRegression\n",
    "\n",
    "from tqdm import tqdm"
   ]
  },
  {
   "cell_type": "code",
   "execution_count": 4,
   "metadata": {},
   "outputs": [],
   "source": [
    "# eigen packages modules\n",
    "current_working_directory = os.getcwd()                                    \n",
    "parent_working_directory = os.path.dirname(current_working_directory)      \n",
    "scripts_directory = os.path.join(parent_working_directory, 'scripts')      \n",
    "sys.path.append(scripts_directory)                                         \n",
    "# sys.path.remove(scripts_directory)\n",
    "# print(sys.path)\n",
    "\n",
    "import come_in_handy as cih\n",
    "import my_matplotlib_standards as mypltstd"
   ]
  },
  {
   "cell_type": "code",
   "execution_count": 5,
   "metadata": {},
   "outputs": [],
   "source": [
    "# eigen standard set up uitvoering\n",
    "mypltstd.my_matplotlib_pyplot_standards_setup()"
   ]
  },
  {
   "cell_type": "markdown",
   "metadata": {},
   "source": [
    "# B : functies nog niet in modules"
   ]
  },
  {
   "cell_type": "code",
   "execution_count": 6,
   "metadata": {},
   "outputs": [],
   "source": [
    "def mijn_functies_maar_niet_in_een_folder():\n",
    "    returnwaarde = 'Ik doe niks'\n",
    "    return returnwaarde"
   ]
  },
  {
   "cell_type": "markdown",
   "metadata": {},
   "source": [
    "# C : opladen van de gegevens"
   ]
  },
  {
   "cell_type": "code",
   "execution_count": 7,
   "metadata": {},
   "outputs": [],
   "source": [
    "location = '../data/raw/autoproductie/'\n",
    "filename = 'filename.csv'\n",
    "file_to_load = os.path.join(location, f\"{filename}\")\n",
    "df = pd.read_csv(file_to_load, delimiter=',')\n"
   ]
  },
  {
   "cell_type": "code",
   "execution_count": 8,
   "metadata": {},
   "outputs": [],
   "source": [
    "# Breng alle gegevens te samen in een groot dataframe\n",
    "# df_save = pd.concat(\n",
    "#          [df_1, df_2],\n",
    "#           ignore_index=True)\n",
    "#  save het voor analyse in een Excel sheet\n",
    "# df_save.to_excel(\"../data/interim/dd_save.xlsx\")"
   ]
  },
  {
   "cell_type": "markdown",
   "metadata": {},
   "source": [
    "# D : een eerste controle van de gegevens"
   ]
  },
  {
   "cell_type": "code",
   "execution_count": 15,
   "metadata": {},
   "outputs": [
    {
     "data": {
      "text/html": [
       "<div>\n",
       "<style scoped>\n",
       "    .dataframe tbody tr th:only-of-type {\n",
       "        vertical-align: middle;\n",
       "    }\n",
       "\n",
       "    .dataframe tbody tr th {\n",
       "        vertical-align: top;\n",
       "    }\n",
       "\n",
       "    .dataframe thead th {\n",
       "        text-align: right;\n",
       "    }\n",
       "</style>\n",
       "<table border=\"1\" class=\"dataframe\">\n",
       "  <thead>\n",
       "    <tr style=\"text-align: right;\">\n",
       "      <th></th>\n",
       "      <th>price</th>\n",
       "    </tr>\n",
       "    <tr>\n",
       "      <th>manufacturer</th>\n",
       "      <th></th>\n",
       "    </tr>\n",
       "  </thead>\n",
       "  <tbody>\n",
       "    <tr>\n",
       "      <th>Dodge</th>\n",
       "      <td>106336.188198</td>\n",
       "    </tr>\n",
       "    <tr>\n",
       "      <th>Porsche</th>\n",
       "      <td>86326.070849</td>\n",
       "    </tr>\n",
       "    <tr>\n",
       "      <th>Land Rover</th>\n",
       "      <td>53081.193286</td>\n",
       "    </tr>\n",
       "    <tr>\n",
       "      <th>Chevrolet</th>\n",
       "      <td>49502.038292</td>\n",
       "    </tr>\n",
       "    <tr>\n",
       "      <th>Tesla</th>\n",
       "      <td>49090.937447</td>\n",
       "    </tr>\n",
       "    <tr>\n",
       "      <th>Mercedes-Benz</th>\n",
       "      <td>47717.659441</td>\n",
       "    </tr>\n",
       "    <tr>\n",
       "      <th>RAM</th>\n",
       "      <td>44046.123373</td>\n",
       "    </tr>\n",
       "    <tr>\n",
       "      <th>GMC</th>\n",
       "      <td>40205.348172</td>\n",
       "    </tr>\n",
       "    <tr>\n",
       "      <th>Cadillac</th>\n",
       "      <td>39749.609868</td>\n",
       "    </tr>\n",
       "    <tr>\n",
       "      <th>BMW</th>\n",
       "      <td>37879.419723</td>\n",
       "    </tr>\n",
       "    <tr>\n",
       "      <th>Audi</th>\n",
       "      <td>36647.055310</td>\n",
       "    </tr>\n",
       "    <tr>\n",
       "      <th>Volvo</th>\n",
       "      <td>35799.978263</td>\n",
       "    </tr>\n",
       "    <tr>\n",
       "      <th>Jaguar</th>\n",
       "      <td>35154.812626</td>\n",
       "    </tr>\n",
       "    <tr>\n",
       "      <th>Lincoln</th>\n",
       "      <td>35012.454186</td>\n",
       "    </tr>\n",
       "    <tr>\n",
       "      <th>Lexus</th>\n",
       "      <td>34456.975072</td>\n",
       "    </tr>\n",
       "    <tr>\n",
       "      <th>Ford</th>\n",
       "      <td>33643.056510</td>\n",
       "    </tr>\n",
       "    <tr>\n",
       "      <th>Jeep</th>\n",
       "      <td>31229.055682</td>\n",
       "    </tr>\n",
       "    <tr>\n",
       "      <th>INFINITI</th>\n",
       "      <td>30274.745138</td>\n",
       "    </tr>\n",
       "    <tr>\n",
       "      <th>Toyota</th>\n",
       "      <td>30184.678996</td>\n",
       "    </tr>\n",
       "    <tr>\n",
       "      <th>Acura</th>\n",
       "      <td>29358.060902</td>\n",
       "    </tr>\n",
       "    <tr>\n",
       "      <th>Subaru</th>\n",
       "      <td>25098.221787</td>\n",
       "    </tr>\n",
       "    <tr>\n",
       "      <th>Honda</th>\n",
       "      <td>24959.287116</td>\n",
       "    </tr>\n",
       "    <tr>\n",
       "      <th>Volkswagen</th>\n",
       "      <td>23754.081803</td>\n",
       "    </tr>\n",
       "    <tr>\n",
       "      <th>Buick</th>\n",
       "      <td>23541.489811</td>\n",
       "    </tr>\n",
       "    <tr>\n",
       "      <th>Nissan</th>\n",
       "      <td>23489.807187</td>\n",
       "    </tr>\n",
       "    <tr>\n",
       "      <th>Mazda</th>\n",
       "      <td>23066.302745</td>\n",
       "    </tr>\n",
       "    <tr>\n",
       "      <th>Chrysler</th>\n",
       "      <td>22772.136001</td>\n",
       "    </tr>\n",
       "    <tr>\n",
       "      <th>Kia</th>\n",
       "      <td>22716.675213</td>\n",
       "    </tr>\n",
       "    <tr>\n",
       "      <th>Hyundai</th>\n",
       "      <td>21646.018241</td>\n",
       "    </tr>\n",
       "    <tr>\n",
       "      <th>Mitsubishi</th>\n",
       "      <td>19408.045098</td>\n",
       "    </tr>\n",
       "  </tbody>\n",
       "</table>\n",
       "</div>"
      ],
      "text/plain": [
       "                       price\n",
       "manufacturer                \n",
       "Dodge          106336.188198\n",
       "Porsche         86326.070849\n",
       "Land Rover      53081.193286\n",
       "Chevrolet       49502.038292\n",
       "Tesla           49090.937447\n",
       "Mercedes-Benz   47717.659441\n",
       "RAM             44046.123373\n",
       "GMC             40205.348172\n",
       "Cadillac        39749.609868\n",
       "BMW             37879.419723\n",
       "Audi            36647.055310\n",
       "Volvo           35799.978263\n",
       "Jaguar          35154.812626\n",
       "Lincoln         35012.454186\n",
       "Lexus           34456.975072\n",
       "Ford            33643.056510\n",
       "Jeep            31229.055682\n",
       "INFINITI        30274.745138\n",
       "Toyota          30184.678996\n",
       "Acura           29358.060902\n",
       "Subaru          25098.221787\n",
       "Honda           24959.287116\n",
       "Volkswagen      23754.081803\n",
       "Buick           23541.489811\n",
       "Nissan          23489.807187\n",
       "Mazda           23066.302745\n",
       "Chrysler        22772.136001\n",
       "Kia             22716.675213\n",
       "Hyundai         21646.018241\n",
       "Mitsubishi      19408.045098"
      ]
     },
     "execution_count": 15,
     "metadata": {},
     "output_type": "execute_result"
    }
   ],
   "source": [
    "# df.describe()\n",
    "# df.describe(include = \"all\") \n",
    "# df.info()\n",
    "# df.shape\n",
    "# df.columns\n",
    "# df.index\n",
    "# print(len(df))\n",
    "# print(f\"{df['engine'].nunique(dropna=True) = } \\n \")    \n",
    "# print(f\"{df['engine'].value_counts() = } \\n \")    \n",
    "# df.head()\n",
    "# df.types\n",
    "# df.isnull().sum()\n",
    "# df.corr()\n",
    "# df.groupby('kolomnaam').agg({'andere_kolom':'functie'})\n",
    "# df.groupby('manufacturer').agg({'price' : 'mean'}).sort_values(by='price', ascending=False)\n"
   ]
  },
  {
   "cell_type": "markdown",
   "metadata": {},
   "source": [
    "# E : de kolom 'productie' valideren en gebruiksklaar maken"
   ]
  }
 ],
 "metadata": {
  "kernelspec": {
   "display_name": ".venv",
   "language": "python",
   "name": "python3"
  },
  "language_info": {
   "codemirror_mode": {
    "name": "ipython",
    "version": 3
   },
   "file_extension": ".py",
   "mimetype": "text/x-python",
   "name": "python",
   "nbconvert_exporter": "python",
   "pygments_lexer": "ipython3",
   "version": "3.12.3"
  }
 },
 "nbformat": 4,
 "nbformat_minor": 2
}
